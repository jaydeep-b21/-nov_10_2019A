{
 "cells": [
  {
   "cell_type": "markdown",
   "metadata": {},
   "source": [
    "# (1) Create a simple calculator. That will be able to take user input of two numbers and the operation the user wants to perform."
   ]
  },
  {
   "cell_type": "markdown",
   "metadata": {},
   "source": [
    "HINT : Create a bunch of functions to perform add, subtract, multiply, division or modulo.\n",
    "\n",
    "Then take two numbers from the user and the operation he/she wants to perform. Either +,-,*,/ or %.\n",
    "\n",
    "Then call the appropriate function based on the operation.\n",
    "\n",
    "Think for a few minutes and try it yourself first."
   ]
  },
  {
   "cell_type": "code",
   "execution_count": 1,
   "metadata": {},
   "outputs": [
    {
     "name": "stdout",
     "output_type": "stream",
     "text": [
      "Enter first number: 5\n",
      "What you want to do(+, -, *, /, %):*\n",
      "Enter second number: 9\n",
      "5 * 9 = 45\n"
     ]
    }
   ],
   "source": [
    "def add(num1, num2):\n",
    "    return num1 + num2\n",
    " \n",
    "def subtract(num1, num2):\n",
    "    return num1 - num2\n",
    " \n",
    "def multiply(num1, num2):\n",
    "    return num1 * num2\n",
    " \n",
    "def divide(num1, num2):\n",
    "    return num1 / num2\n",
    " \n",
    "def modulo(num1, num2):\n",
    "    return num1 % num2\n",
    " \n",
    "# Take input from the user\n",
    "num1 = int(input(\"Enter first number: \"))\n",
    "operation = input(\"What you want to do(+, -, *, /, %):\")\n",
    "num2 = int(input(\"Enter second number: \"))\n",
    " \n",
    "result = 0\n",
    "if operation == '+':\n",
    "    result = add(num1,num2)\n",
    "elif operation == '-':\n",
    "    result = subtract(num1,num2)\n",
    "elif operation == '*':\n",
    "    result = multiply(num1,num2)\n",
    "elif operation == '/':\n",
    "    result = divide(num1,num2)\n",
    "elif operation == '%':\n",
    "    result = modulo(num1,num2)\n",
    "else:\n",
    "    print(\"Please enter: +, -, *, / or %\")\n",
    "    \n",
    "print(num1, operation, num2, '=', result)"
   ]
  },
  {
   "cell_type": "markdown",
   "metadata": {},
   "source": [
    "# (2) Generate a password. Your password may contain letters in uppercase or lowercase. It also may contain digits or special characters."
   ]
  },
  {
   "cell_type": "markdown",
   "metadata": {},
   "source": [
    "To select a random character from a string, you can import random. Then use the random. choice method. This will select a character from the provided string.\n",
    "\n",
    "Also, you can import the string module.\n",
    "\n",
    "This is not just the string type variable. Instead, it has a lot of extra functionalities.\n",
    "\n",
    "For example, you can use string.ascii_letters to get all the characters a to z both in lowercase and upper case. Similarly, you can use string.digits to get all the single digits. Also, you can use string.punctuation to get all the special characters.\n",
    "\n",
    "import string\n",
    "\n",
    "print('All letters')\n",
    "\n",
    "print(string.ascii_letters)\n",
    "\n",
    "print('all digits')\n",
    "\n",
    "print(string.digits)\n",
    "\n",
    "print('all special characters')\n",
    "\n",
    "print(string.punctuation)"
   ]
  },
  {
   "cell_type": "code",
   "execution_count": 13,
   "metadata": {},
   "outputs": [
    {
     "name": "stdout",
     "output_type": "stream",
     "text": [
      "How many characters in your password?4\n",
      "Your new password:  gsoy\n"
     ]
    }
   ],
   "source": [
    "import string\n",
    "import random\n",
    " \n",
    "def generate_password(size):\n",
    "    all_chars = string.ascii_letters + string.digits + string.punctuation\n",
    "    password = ''\n",
    "    for char in range(size):\n",
    "        rand_char = random.choice(all_chars)\n",
    "        password = password + rand_char\n",
    "    return password\n",
    " \n",
    "pass_len = int(input('How many characters in your password?'))\n",
    "new_password = generate_password(pass_len)\n",
    "print('Your new password: ', new_password)"
   ]
  },
  {
   "cell_type": "markdown",
   "metadata": {},
   "source": [
    "# (3) Generate a password that has a minimum of one uppercase, one lowercase, one digit, and one special character"
   ]
  },
  {
   "cell_type": "markdown",
   "metadata": {},
   "source": [
    "HINT: This one is easier. The string module has two more things to get the uppercase and lower case characters...\n",
    "\n",
    "import string\n",
    "\n",
    "print('All letters')\n",
    "\n",
    "print(string.ascii_letters)\n",
    "\n",
    "print('Al lowercase characters')\n",
    "\n",
    "print(string.ascii_lowercase)\n",
    "\n",
    "print('All uppercase characters')\n",
    "\n",
    "print(string.ascii_uppercase)"
   ]
  },
  {
   "cell_type": "code",
   "execution_count": 15,
   "metadata": {},
   "outputs": [
    {
     "name": "stdout",
     "output_type": "stream",
     "text": [
      "What would be the password length? 10\n",
      "First Random Password is: zK4;s-0R#8\n",
      "Second Random Password is: qH6}Bo[h[-\n",
      "Third Random Password is: dM9%C^_s(%\n"
     ]
    }
   ],
   "source": [
    "import random\n",
    "import string\n",
    " \n",
    "def randomPassword(size):\n",
    "    all_chars = string.ascii_letters + string.digits + string.punctuation\n",
    "    password = \"\"\n",
    "    password += random.choice(string.ascii_lowercase)\n",
    "    password += random.choice(string.ascii_uppercase)\n",
    "    password += random.choice(string.digits)\n",
    "    password += random.choice(string.punctuation)\n",
    "    \n",
    "    for i in range(size-4):\n",
    "        password += random.choice(all_chars)\n",
    "    return password\n",
    " \n",
    "pass_len = int(input(\"What would be the password length? \"))\n",
    "print (\"First Random Password is:\", randomPassword(pass_len))\n",
    "print (\"Second Random Password is:\", randomPassword(pass_len))\n",
    "print (\"Third Random Password is:\", randomPassword(pass_len))"
   ]
  },
  {
   "cell_type": "markdown",
   "metadata": {},
   "source": [
    "# (4) Find all permutation of a given list."
   ]
  },
  {
   "cell_type": "markdown",
   "metadata": {},
   "source": [
    "In mathematics, the permutation is the way to find all possible order of elements\n",
    "\n",
    "For example, you have 1,2,3. Now all possible order is 1,2,3 1,3,2 2,1,3 2,3,1 3,1,2 3,2,1\n",
    "\n",
    "So, the permutation is a way to find all the possible order or sequence of elements.\n",
    "\n",
    "lst = [2,3,4,6,11,16,7,8]\n",
    "\n",
    "before = lst[:4]\n",
    "\n",
    "after = lst[4+1:]\n",
    "\n",
    "excluding = before + after\n",
    "\n",
    "print(excluding)\n",
    "\n",
    "print('-----------------------')\n",
    "\n",
    "print(lst[:4] + lst[4+1])"
   ]
  },
  {
   "cell_type": "code",
   "execution_count": 21,
   "metadata": {},
   "outputs": [
    {
     "name": "stdout",
     "output_type": "stream",
     "text": [
      "[1, 2, 3]\n",
      "[1, 3, 2]\n",
      "[2, 1, 3]\n",
      "[2, 3, 1]\n",
      "[3, 1, 2]\n",
      "[3, 2, 1]\n"
     ]
    }
   ],
   "source": [
    "def get_permutation(lst):\n",
    "       # For an empty list, there is no permutation\n",
    "    if len(lst) == 0:\n",
    "        return []\n",
    "    # list with one element will have only one\n",
    "   # permutation\n",
    "    if len(lst) == 1:\n",
    "        return [lst]\n",
    "      # Create an empty list to store permutation\n",
    "    perms = []\n",
    "    for i in range(len(lst)):\n",
    "         # Extract current elemnt from the list.\n",
    "        current = lst[i]\n",
    "       # Recursively call permutation for the\n",
    "       # remaining list\n",
    "        rem_list = lst[:i] + lst[i+1:]\n",
    "        rem_perm = get_permutation(rem_list)\n",
    "    # Generate permutations by adding first element\n",
    "        for p in rem_perm:\n",
    "            perms.append([current] + p)\n",
    "    return perms\n",
    "# now test the function\n",
    "data = [1,2,3]\n",
    "for perm in get_permutation(data):\n",
    "    print (perm)"
   ]
  },
  {
   "cell_type": "markdown",
   "metadata": {},
   "source": [
    "# (5) You have three lists of words. Create all possible combinations of sentences by taking one element from each list."
   ]
  },
  {
   "cell_type": "markdown",
   "metadata": {},
   "source": [
    "HINT : For each list, run a for loop for its len. This would be nested three for loops.\n",
    "\n",
    "Under the last loop, access elements from each loop and show them as output."
   ]
  },
  {
   "cell_type": "code",
   "execution_count": 22,
   "metadata": {},
   "outputs": [
    {
     "name": "stdout",
     "output_type": "stream",
     "text": [
      "I Play Hockey\n",
      "I Play Football\n",
      "I Love Hockey\n",
      "I Love Football\n",
      "You Play Hockey\n",
      "You Play Football\n",
      "You Love Hockey\n",
      "You Love Football\n"
     ]
    }
   ],
   "source": [
    "subjects=[\"I\", \"You\"]\n",
    "verbs=[\"Play\", \"Love\"]\n",
    "objects=[\"Hockey\",\"Football\"]\n",
    "for i in range(len(subjects)):\n",
    "    for j in range(len(verbs)):\n",
    "        for k in range(len(objects)):\n",
    "            print (subjects[i], verbs[j], objects[k])"
   ]
  },
  {
   "cell_type": "code",
   "execution_count": null,
   "metadata": {},
   "outputs": [],
   "source": []
  }
 ],
 "metadata": {
  "kernelspec": {
   "display_name": "Python 3",
   "language": "python",
   "name": "python3"
  },
  "language_info": {
   "codemirror_mode": {
    "name": "ipython",
    "version": 3
   },
   "file_extension": ".py",
   "mimetype": "text/x-python",
   "name": "python",
   "nbconvert_exporter": "python",
   "pygments_lexer": "ipython3",
   "version": "3.7.3"
  }
 },
 "nbformat": 4,
 "nbformat_minor": 2
}
